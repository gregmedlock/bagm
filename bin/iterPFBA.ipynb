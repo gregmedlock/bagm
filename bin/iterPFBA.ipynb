{
 "cells": [
  {
   "cell_type": "code",
   "execution_count": 13,
   "metadata": {},
   "outputs": [],
   "source": [
    "import cobra\n",
    "from cobra.flux_analysis.deletion import single_reaction_deletion\n",
    "from cobra.flux_analysis.parsimonious import add_pfba"
   ]
  },
  {
   "cell_type": "code",
   "execution_count": 66,
   "metadata": {},
   "outputs": [],
   "source": [
    "model = cobra.io.read_sbml_model('../genres/97138.36.fbc.sbml')"
   ]
  },
  {
   "cell_type": "code",
   "execution_count": 67,
   "metadata": {},
   "outputs": [
    {
     "data": {
      "text/html": [
       "\n",
       "        <table>\n",
       "            <tr>\n",
       "                <td><strong>Name</strong></td>\n",
       "                <td>A_97138_36</td>\n",
       "            </tr><tr>\n",
       "                <td><strong>Memory address</strong></td>\n",
       "                <td>0x07f97b5d95be0</td>\n",
       "            </tr><tr>\n",
       "                <td><strong>Number of metabolites</strong></td>\n",
       "                <td>1150</td>\n",
       "            </tr><tr>\n",
       "                <td><strong>Number of reactions</strong></td>\n",
       "                <td>1040</td>\n",
       "            </tr><tr>\n",
       "                <td><strong>Number of groups</strong></td>\n",
       "                <td>0</td>\n",
       "            </tr><tr>\n",
       "                <td><strong>Objective expression</strong></td>\n",
       "                <td>1.0*bio1 - 1.0*bio1_reverse_b18f7</td>\n",
       "            </tr><tr>\n",
       "                <td><strong>Compartments</strong></td>\n",
       "                <td>Cytosol_0, Extracellular_0</td>\n",
       "            </tr>\n",
       "          </table>"
      ],
      "text/plain": [
       "<Model A_97138_36 at 0x7f97b5d95be0>"
      ]
     },
     "execution_count": 67,
     "metadata": {},
     "output_type": "execute_result"
    }
   ],
   "source": [
    "model"
   ]
  },
  {
   "cell_type": "code",
   "execution_count": 68,
   "metadata": {},
   "outputs": [
    {
     "name": "stdout",
     "output_type": "stream",
     "text": [
      "aa\n",
      "EX_cpd00276_b EX_cpd00276_b -1000.0000000001442 13.317220518370382\n",
      "aa\n",
      "EX_cpd00307_b EX_cpd00307_b -91.46817831650695 7.869753556918997\n",
      "aa\n",
      "EX_cpd00588_b EX_cpd00588_b -5.227121881741488 5.9672801127733885\n",
      "aa\n",
      "EX_cpd00314_b EX_cpd00314_b -5.227121881741793 5.967280112773404\n",
      "aa\n"
     ]
    }
   ],
   "source": [
    "minimum_auxotrophies = []\n",
    "\n",
    "#strain_model.reactions.EX_cpd00007_e.lower_bound=0 # shut off O2 uptake\n",
    "#strain_model.reactions.EX_cpd00011_e.lower_bound=0 # Shut off CO2 uptake\n",
    "essential_threshold = 0.01\n",
    "max_growth = model.slim_optimize()\n",
    "consumed_dict = {}\n",
    "produced_dict = {}\n",
    "# exchanges that should never be shut off\n",
    "# H+, H2O\n",
    "exclusion_list = ['EX_cpd00067_e','EX_cpd00001_e']\n",
    "\n",
    "# Should be performed with and without oxygen available\n",
    "oxygen_exchange = 'EX_cpd00007_e'\n",
    "\n",
    "exclude_exchange = []\n",
    "minimum_auxotrophies = []\n",
    "while not minimum_auxotrophies:\n",
    "    print('aa')\n",
    "    with model:\n",
    "    #for i in range(0,2):\n",
    "        # get media components that are always essential\n",
    "        for reaction in exclude_exchange:\n",
    "            model.reactions.get_by_id(reaction).lower_bound = 0\n",
    "        media_rxns = model.medium.keys()\n",
    "        current_growth = model.slim_optimize()\n",
    "        deletion_results = single_media_removal(model,media_rxns)\n",
    "        # Get the deletions that result in growth below the threshold and\n",
    "        \n",
    "        essential = [metabolite for metabolite,growthrate in deletion_results.items() if growthrate < essential_threshold*max_growth]\n",
    "        \n",
    "        # add the pFBA constraints and objective to the model\n",
    "        add_pfba(model,fraction_of_optimum=1.0)\n",
    "        pfba_sol = model.optimize()\n",
    "        # extract the media fluxes only\n",
    "        active = pfba_sol.fluxes.loc[abs(pfba_sol.fluxes) > 0]\n",
    "        active_media = active[[rxn for rxn in model.medium.keys() if rxn in active.index]]\n",
    "\n",
    "        # remove the essential reactions from the active_media list\n",
    "        active_nonessential = active_media[[i for i in active_media.index if i not in essential]].sort_values()\n",
    "        \n",
    "        # filter out reactions from the exclusion list\n",
    "        active_nonessential = active_nonessential[list(set(active_nonessential.index) - set(exclusion_list))]\n",
    "        if len(active_nonessential[active_nonessential < 0]) > 0:\n",
    "            produced = active_nonessential[active_nonessential > 0].sort_values(ascending=True)\n",
    "            for metabolite in produced.index:\n",
    "                if metabolite in produced_dict.keys():\n",
    "                    produced_dict[metabolite].append({'production_flux':produced[metabolite],'growth_rate':current_growth})\n",
    "                else:\n",
    "                    produced_dict[metabolite] = [{'production_flux':produced[metabolite],'growth_rate':current_growth}]\n",
    "            max_consumed = active_nonessential[active_nonessential < 0].sort_values(ascending=False).index[-1]\n",
    "            #produced_dict[max_produced] = active_media[max_produced]\n",
    "            consumed_dict[max_consumed] = (active_media[max_consumed],current_growth)\n",
    "\n",
    "            print(max_consumed,model.reactions.get_by_id(max_consumed).name,active_media[max_consumed],current_growth)\n",
    "            #print(max_produced,model.reactions.get_by_id(max_produced).name,active_media[max_produced],current_growth)\n",
    "            # shut off the exchange reaction for the max consumed metabolite\n",
    "            exclude_exchange.append(max_consumed)\n",
    "        else:\n",
    "            minimum_auxotrophies = essential\n",
    "            minimum_growth = current_growth"
   ]
  },
  {
   "cell_type": "code",
   "execution_count": 76,
   "metadata": {},
   "outputs": [
    {
     "data": {
      "text/html": [
       "\n",
       "        <table>\n",
       "            <tr>\n",
       "                <td><strong>Metabolite identifier</strong></td><td>cpd00314_e0</td>\n",
       "            </tr><tr>\n",
       "                <td><strong>Name</strong></td><td>D_Mannitol_e0</td>\n",
       "            </tr><tr>\n",
       "                <td><strong>Memory address</strong></td>\n",
       "                <td>0x07f97b5da5550</td>\n",
       "            </tr><tr>\n",
       "                <td><strong>Formula</strong></td><td></td>\n",
       "            </tr><tr>\n",
       "                <td><strong>Compartment</strong></td><td>e0</td>\n",
       "            </tr><tr>\n",
       "                <td><strong>In 2 reaction(s)</strong></td><td>\n",
       "                    rxn05617_c0, EX_cpd00314_e0</td>\n",
       "            </tr>\n",
       "        </table>"
      ],
      "text/plain": [
       "<Metabolite cpd00314_e0 at 0x7f97b5da5550>"
      ]
     },
     "execution_count": 76,
     "metadata": {},
     "output_type": "execute_result"
    }
   ],
   "source": [
    "model.metabolites.cpd00314_e0"
   ]
  },
  {
   "cell_type": "code",
   "execution_count": 77,
   "metadata": {},
   "outputs": [
    {
     "data": {
      "text/plain": [
       "EX_cpd00528_b     60.600067\n",
       "EX_cpd00082_b    175.889414\n",
       "EX_cpd00106_b      0.709277\n",
       "EX_cpd11416_b      5.583035\n",
       "EX_cpd00129_b    130.197147\n",
       "EX_cpd00001_b    324.106658\n",
       "EX_cpd00027_b     24.719743\n",
       "EX_cpd00007_b      0.147774\n",
       "Name: fluxes, dtype: float64"
      ]
     },
     "execution_count": 77,
     "metadata": {},
     "output_type": "execute_result"
    }
   ],
   "source": [
    "active_nonessential"
   ]
  },
  {
   "cell_type": "code",
   "execution_count": 60,
   "metadata": {},
   "outputs": [
    {
     "data": {
      "text/plain": [
       "EX_cpd11416_b      72.725149\n",
       "EX_cpd00154_b     100.212232\n",
       "EX_cpd00001_b    1000.000000\n",
       "EX_cpd00011_b     713.854369\n",
       "Name: fluxes, dtype: float64"
      ]
     },
     "execution_count": 60,
     "metadata": {},
     "output_type": "execute_result"
    }
   ],
   "source": [
    "active_nonessential"
   ]
  },
  {
   "cell_type": "code",
   "execution_count": 35,
   "metadata": {},
   "outputs": [],
   "source": [
    "def single_media_removal(model,exchange_id_list):\n",
    "    '''\n",
    "    Perform single metabolite removals from the media.\n",
    "    In contrast to a reaction deletion, this only sets\n",
    "    the lower bound for the reaction to 0 but still\n",
    "    allows secretion of the metabolite.\n",
    "    \n",
    "    The exchange_id_list must be a list of reaction ids\n",
    "    for the corresponding exchange reactions.\n",
    "    '''\n",
    "    exchange_to_growthrate = {}\n",
    "    for exchange_id in exchange_id_list:\n",
    "        with model:\n",
    "            model.reactions.get_by_id(exchange_id).lower_bound = 0.0\n",
    "            exchange_to_growthrate[exchange_id] = model.slim_optimize()\n",
    "    return(exchange_to_growthrate)"
   ]
  },
  {
   "cell_type": "code",
   "execution_count": 11,
   "metadata": {},
   "outputs": [],
   "source": [
    "import matplotlib\n",
    "import matplotlib.pyplot as plt\n",
    "import numpy as np\n",
    "import matplotlib.colors as colors\n",
    "# set the colormap and centre the colorbar - from http://chris35wills.github.io/matplotlib_diverging_colorbar/\n",
    "class MidpointNormalize(colors.Normalize):\n",
    "    \"\"\"\n",
    "    Normalise the colorbar so that diverging bars work there way either side from a prescribed midpoint value)\n",
    "\n",
    "    e.g. im=ax1.imshow(array, norm=MidpointNormalize(midpoint=0.,vmin=-100, vmax=100))\n",
    "    \"\"\"\n",
    "    def __init__(self, vmin=None, vmax=None, midpoint=None, clip=False):\n",
    "        self.midpoint = midpoint\n",
    "        colors.Normalize.__init__(self, vmin, vmax, clip)\n",
    "\n",
    "    def __call__(self, value, clip=None):\n",
    "        # I'm ignoring masked values and all kinds of edge cases to make a\n",
    "        # simple example...\n",
    "        x, y = [self.vmin, self.midpoint, self.vmax], [0, 0.5, 1]\n",
    "        return np.ma.masked_array(np.interp(value, x, y), np.isnan(value))"
   ]
  }
 ],
 "metadata": {
  "kernelspec": {
   "display_name": "Python [conda env:.conda-bagm]",
   "language": "python",
   "name": "conda-env-.conda-bagm-py"
  },
  "language_info": {
   "codemirror_mode": {
    "name": "ipython",
    "version": 3
   },
   "file_extension": ".py",
   "mimetype": "text/x-python",
   "name": "python",
   "nbconvert_exporter": "python",
   "pygments_lexer": "ipython3",
   "version": "3.8.3"
  }
 },
 "nbformat": 4,
 "nbformat_minor": 4
}
